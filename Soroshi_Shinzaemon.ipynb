{
  "nbformat": 4,
  "nbformat_minor": 0,
  "metadata": {
    "colab": {
      "provenance": []
    },
    "kernelspec": {
      "name": "python3",
      "display_name": "Python 3"
    },
    "language_info": {
      "name": "python"
    }
  },
  "cells": [
    {
      "cell_type": "markdown",
      "source": [
        "problem 1"
      ],
      "metadata": {
        "id": "CLdFU0eT7Okj"
      }
    },
    {
      "cell_type": "code",
      "execution_count": 4,
      "metadata": {
        "id": "eWmWkURUuNKU"
      },
      "outputs": [],
      "source": [
        "grain = 1\n",
        "grain_increment = []\n",
        "for day in range(100):\n",
        "  if day == 0:\n",
        "    grain_increment.append(grain)\n",
        "  else:\n",
        "    grain_increment.append((grain*2)**day)"
      ]
    },
    {
      "cell_type": "code",
      "source": [
        "print(\"the total rice grain after 100 days: \", sum(grain_increment))"
      ],
      "metadata": {
        "colab": {
          "base_uri": "https://localhost:8080/"
        },
        "id": "GaMuA4cjwmXL",
        "outputId": "1f21b5c8-5c3f-42ee-da33-d0f58e94c151"
      },
      "execution_count": 6,
      "outputs": [
        {
          "output_type": "stream",
          "name": "stdout",
          "text": [
            "the total rice grain after 100 days:  1267650600228229401496703205375\n"
          ]
        }
      ]
    },
    {
      "cell_type": "code",
      "source": [
        "import matplotlib.pyplot as plt\n",
        "%matplotlib inline\n",
        "plt.title(\"grains incremental\")\n",
        "plt.xlabel(\"days\")\n",
        "plt.ylabel(\"grains\")\n",
        "plt.plot(grain_increment)\n",
        "plt.show()"
      ],
      "metadata": {
        "colab": {
          "base_uri": "https://localhost:8080/",
          "height": 472
        },
        "id": "U5pG-fVbxSZ8",
        "outputId": "3ebe3d1a-a88e-4eba-804a-f08c09d666d0"
      },
      "execution_count": 8,
      "outputs": [
        {
          "output_type": "display_data",
          "data": {
            "text/plain": [
              "<Figure size 640x480 with 1 Axes>"
            ],
            "image/png": "[encoded data removed]"
          },
          "metadata": {}
        }
      ]
    },
    {
      "cell_type": "markdown",
      "source": [
        "problem 2"
      ],
      "metadata": {
        "id": "u8oBaBz47GIp"
      }
    },
    {
      "cell_type": "code",
      "source": [
        "def compute_grain_per_days(days=100):\n",
        "  grain = 1\n",
        "  grain_increment = []\n",
        "  for day in range(days):\n",
        "    if day == 0:\n",
        "      grain_increment.append(grain)\n",
        "    else:\n",
        "      grain_increment.append((grain*2)**day)\n",
        "  print(\"the total rice grains after:\", sum(grain_increment))"
      ],
      "metadata": {
        "id": "eEyBwdyuy4P4"
      },
      "execution_count": 16,
      "outputs": []
    },
    {
      "cell_type": "code",
      "source": [
        "compute_grain_per_days( 81)"
      ],
      "metadata": {
        "colab": {
          "base_uri": "https://localhost:8080/"
        },
        "id": "hH_FXbjhz6pR",
        "outputId": "91509586-8704-4727-9d49-ae01e2d994d8"
      },
      "execution_count": 19,
      "outputs": [
        {
          "output_type": "stream",
          "name": "stdout",
          "text": [
            "the total rice grains after: 2417851639229258349412351\n"
          ]
        }
      ]
    },
    {
      "cell_type": "markdown",
      "source": [
        "problem 3"
      ],
      "metadata": {
        "id": "YwdXMN871yrQ"
      }
    },
    {
      "cell_type": "code",
      "source": [
        "from functools import total_ordering\n",
        "number_of_grains_per_bowl = 10000\n",
        "grain_increment = number_of_grains_per_bowl*2\n",
        "def compute_how_many_days(people, grains):\n",
        "  total_grains_days = people*grain_increment\n",
        "  day = grains/total_grains_days\n",
        "  print(\"how many days\", day)\n",
        "compute_how_many_days(3,2417851639229258349412351)\n"
      ],
      "metadata": {
        "colab": {
          "base_uri": "https://localhost:8080/"
        },
        "id": "m5bn6yy90GnX",
        "outputId": "9f35c6ac-471d-4886-a15e-4bf22a635325"
      },
      "execution_count": 22,
      "outputs": [
        {
          "output_type": "stream",
          "name": "stdout",
          "text": [
            "how many days 4.029752732048764e+19\n"
          ]
        }
      ]
    },
    {
      "cell_type": "code",
      "source": [],
      "metadata": {
        "id": "3N-Lztvq4tur"
      },
      "execution_count": null,
      "outputs": []
    }
  ]
}